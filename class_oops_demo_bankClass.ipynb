{
 "cells": [
  {
   "cell_type": "code",
   "execution_count": 31,
   "metadata": {
    "scrolled": false
   },
   "outputs": [
    {
     "name": "stdout",
     "output_type": "stream",
     "text": [
      "your balance 87.9\n",
      "Owner name is sharu\n",
      "Your current balance is 87.9\n",
      "Press 1 for deposit\n",
      "Press 2 for withdraw\n",
      "2\n",
      "Enter withdraw amount\n",
      "80\n",
      "Withdraw Successfuly! Remaning amount is 7.900000000000006\n"
     ]
    }
   ],
   "source": [
    "#Day 6 Assignment no. 1 \" WAP to create a class named as bank and perform function\"\n",
    "\n",
    "bal = 0\n",
    "class bank:\n",
    "    oname = \"\"\n",
    "   # bal = 0\n",
    "    def deposit(self,dep_amt,bal):\n",
    "           # print(upamt)\n",
    "           # print(bal)\n",
    "            bal1 = bal + dep_amt\n",
    "            print(str(bal1)+\" Rs deposit done!\")\n",
    "    def withdraw(self,wamt,bal):\n",
    "        if bal < wamt:\n",
    "            print(\"insufficient Balance!\")\n",
    "        else:\n",
    "            wbal = bal - wamt\n",
    "            print(\"Withdraw Successfuly! Remaning amount is \" + str(wbal))\n",
    "    def __init__(self, oname, bal):\n",
    "        self.oname = oname\n",
    "        self.bal = bal\n",
    "        print(\"your balance \"+ str(self.bal))\n",
    "        print(\"Owner name is \" + str(self.oname))\n",
    "        print(\"Your current balance is \" + str(self.bal))\n",
    "        print(\"Press 1 for deposit\")        \n",
    "        print(\"Press 2 for withdraw\")\n",
    "        act = input()\n",
    "        if act == \"1\":\n",
    "            print(\"Enter deposit amount\")\n",
    "            dep = float(input())\n",
    "            self.deposit(dep,self.bal)\n",
    "        elif act == \"2\":\n",
    "            print(\"Enter withdraw amount\")\n",
    "            wamt = float(input())\n",
    "            self.withdraw(wamt,self.bal)\n",
    "        else:\n",
    "            print(\"Incorrect choice!\")\n",
    "        \n",
    "o1 = bank(\"sharu\",87.90)        \n"
   ]
  },
  {
   "cell_type": "code",
   "execution_count": 30,
   "metadata": {},
   "outputs": [
    {
     "name": "stdout",
     "output_type": "stream",
     "text": [
      "you are shounbalance 87.9\n",
      "Owner name is shoun\n",
      "Your current balance is 87.9\n",
      "Press 1 for deposit\n",
      "Press 2 for withdraw\n",
      "1\n",
      "Enter deposit amount\n",
      "200\n",
      "287.9 Rs deposit done!\n"
     ]
    }
   ],
   "source": [
    "o2 = bank(\"shoun\",87.90)  "
   ]
  },
  {
   "cell_type": "code",
   "execution_count": 20,
   "metadata": {},
   "outputs": [
    {
     "name": "stdout",
     "output_type": "stream",
     "text": [
      "Cone Radius is = 4.5\n",
      "Cone height is = 5.6\n",
      "Volume of cone is 118.75220230569417\n",
      "Surface area of cone is 165.17880022687368\n"
     ]
    }
   ],
   "source": [
    "#Day 6 Assignment no. 2 \" WAP to create a class named as cone and calculate volume and surface area using UDF\"\n",
    "import math\n",
    "class cone:\n",
    "    r = 0.0\n",
    "    h = 0.0\n",
    "    def volume(r1,h1):\n",
    "        v = math.pi*math.pow( r1, 2)*(h1/3)\n",
    "        print(\"Volume of cone is \" +str(v))\n",
    "    def surface_area(r2,h2):\n",
    "        a = math.sqrt(math.pow(r2,2)+math.pow(h2,2))\n",
    "        #print(a)\n",
    "        s = math.pi*r2*(r2+a)\n",
    "        print(\"Surface area of cone is \" +str(s))\n",
    "    def __init__(self,r,h):\n",
    "        self.r = r\n",
    "        self.h = h\n",
    "        print(\"Cone Radius is = \"+str(self.r))\n",
    "        print(\"Cone height is = \"+str(self.h))\n",
    "c1 = cone(4.5,5.6)\n",
    "cone.volume(4.5,5.6)  \n",
    "cone.surface_area(4.5,5.6)"
   ]
  },
  {
   "cell_type": "code",
   "execution_count": null,
   "metadata": {},
   "outputs": [],
   "source": []
  }
 ],
 "metadata": {
  "kernelspec": {
   "display_name": "Python 3",
   "language": "python",
   "name": "python3"
  },
  "language_info": {
   "codemirror_mode": {
    "name": "ipython",
    "version": 3
   },
   "file_extension": ".py",
   "mimetype": "text/x-python",
   "name": "python",
   "nbconvert_exporter": "python",
   "pygments_lexer": "ipython3",
   "version": "3.7.6"
  }
 },
 "nbformat": 4,
 "nbformat_minor": 4
}
