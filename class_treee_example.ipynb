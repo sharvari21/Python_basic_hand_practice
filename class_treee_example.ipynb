{
 "cells": [
  {
   "cell_type": "code",
   "execution_count": 9,
   "metadata": {},
   "outputs": [
    {
     "name": "stdout",
     "output_type": "stream",
     "text": [
      "tree name is marigold\n"
     ]
    }
   ],
   "source": [
    "class tree:\n",
    "    treename = \"\"\n",
    "    def __init__(self,treename):\n",
    "        self.treename = treename\n",
    "        print(\"tree name is \" + str(self.treename))\n",
    "        \n",
    "t1 = tree(\"marigold\")\n",
    "\n",
    "\n",
    " if act == \"1\":\n",
    "            print(\"Enter deposit amount\")\n",
    "            dep = float(input())\n",
    "            self.deposit(dep)\n",
    "        elif act == \"2\":\n",
    "            print(\"Enter withdraw amount\")\n",
    "            wamt = float(input())\n",
    "            withdraw(wamt)\n",
    "        else:\n",
    "            print(\"Incorrect choice!\")\n",
    "            #print(\"obj created\")\n"
   ]
  },
  {
   "cell_type": "code",
   "execution_count": null,
   "metadata": {},
   "outputs": [],
   "source": [
    "class bank:\n",
    "    oname = \"\"\n",
    "    bal = 0\n",
    "  \n",
    "    def __init__(self, oname, bal):\n",
    "        self.oname = oname\n",
    "        self.bal = bal\n",
    "        #print(\"you are \" +self.oname+ \"balance \"+str(self.bal))\n",
    "        print(\"Owner name is \" + str(self.oname))\n",
    "        print(\"Your current balance is \" + str(self.bal))\n",
    "        print(\"Press 1 for deposit\")        \n",
    "        print(\"Press 2 for withdraw\")\n",
    "        \n",
    "o1=bank(\"sharu\",87.90)"
   ]
  },
  {
   "cell_type": "code",
   "execution_count": null,
   "metadata": {},
   "outputs": [],
   "source": []
  }
 ],
 "metadata": {
  "kernelspec": {
   "display_name": "Python 3",
   "language": "python",
   "name": "python3"
  },
  "language_info": {
   "codemirror_mode": {
    "name": "ipython",
    "version": 3
   },
   "file_extension": ".py",
   "mimetype": "text/x-python",
   "name": "python",
   "nbconvert_exporter": "python",
   "pygments_lexer": "ipython3",
   "version": "3.7.6"
  }
 },
 "nbformat": 4,
 "nbformat_minor": 4
}
