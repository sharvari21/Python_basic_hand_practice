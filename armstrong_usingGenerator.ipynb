{
 "cells": [
  {
   "cell_type": "code",
   "execution_count": 7,
   "metadata": {},
   "outputs": [],
   "source": [
    "# Day 8 assingment no. 2 \" WAP to check number is armstron in range using genrator function\"\n",
    "\n",
    "def armstrong(range1 = 1, range2 = 1000):\n",
    "    for num in range(range1, range2):\n",
    "        order = len(str(num))\n",
    "        sum = 0\n",
    "        temp = num\n",
    "        while temp > 0:\n",
    "           digit = temp % 10\n",
    "           sum += digit ** order\n",
    "           temp //= 10 \n",
    "           #break   \n",
    "        if num == sum:\n",
    "       #print(num)\n",
    "            yield num"
   ]
  },
  {
   "cell_type": "code",
   "execution_count": 8,
   "metadata": {},
   "outputs": [],
   "source": [
    "arm = armstrong(1,1000)"
   ]
  },
  {
   "cell_type": "code",
   "execution_count": 9,
   "metadata": {},
   "outputs": [
    {
     "name": "stdout",
     "output_type": "stream",
     "text": [
      "[1, 2, 3, 4, 5, 6, 7, 8, 9, 153, 370, 371, 407]\n"
     ]
    }
   ],
   "source": [
    "print(list(arm))"
   ]
  },
  {
   "cell_type": "code",
   "execution_count": null,
   "metadata": {},
   "outputs": [],
   "source": []
  }
 ],
 "metadata": {
  "kernelspec": {
   "display_name": "Python 3",
   "language": "python",
   "name": "python3"
  },
  "language_info": {
   "codemirror_mode": {
    "name": "ipython",
    "version": 3
   },
   "file_extension": ".py",
   "mimetype": "text/x-python",
   "name": "python",
   "nbconvert_exporter": "python",
   "pygments_lexer": "ipython3",
   "version": "3.7.6"
  }
 },
 "nbformat": 4,
 "nbformat_minor": 4
}
