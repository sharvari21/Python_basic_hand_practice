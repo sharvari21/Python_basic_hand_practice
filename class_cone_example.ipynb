{
 "cells": [
  {
   "cell_type": "code",
   "execution_count": 1,
   "metadata": {
    "scrolled": true
   },
   "outputs": [
    {
     "name": "stdout",
     "output_type": "stream",
     "text": [
      "Cone Radius is = 4.5\n",
      "Cone height is = 5.6\n",
      "Volume of cone is 118.75220230569417\n",
      "Surface area of cone is 165.17880022687368\n"
     ]
    }
   ],
   "source": [
    "#Day 6 Assignment no. 2 \" WAP to create a class named as cone and calculate volume and surface area using UDF\"\n",
    "import math\n",
    "class cone:\n",
    "    r = 0.0\n",
    "    h = 0.0\n",
    "    def volume(r1,h1):\n",
    "        v = math.pi*math.pow( r1, 2)*(h1/3)\n",
    "        print(\"Volume of cone is \" +str(v))\n",
    "    def surface_area(r2,h2):\n",
    "        a = math.sqrt(math.pow(r2,2)+math.pow(h2,2))\n",
    "        #print(a)\n",
    "        s = math.pi*r2*(r2+a)\n",
    "        print(\"Surface area of cone is \" +str(s))\n",
    "    def __init__(self,r,h):\n",
    "        self.r = r\n",
    "        self.h = h\n",
    "        print(\"Cone Radius is = \"+str(self.r))\n",
    "        print(\"Cone height is = \"+str(self.h))\n",
    "c1 = cone(4.5,5.6)\n",
    "cone.volume(4.5,5.6)  \n",
    "cone.surface_area(4.5,5.6)"
   ]
  },
  {
   "cell_type": "code",
   "execution_count": null,
   "metadata": {},
   "outputs": [],
   "source": []
  }
 ],
 "metadata": {
  "kernelspec": {
   "display_name": "Python 3",
   "language": "python",
   "name": "python3"
  },
  "language_info": {
   "codemirror_mode": {
    "name": "ipython",
    "version": 3
   },
   "file_extension": ".py",
   "mimetype": "text/x-python",
   "name": "python",
   "nbconvert_exporter": "python",
   "pygments_lexer": "ipython3",
   "version": "3.7.6"
  }
 },
 "nbformat": 4,
 "nbformat_minor": 4
}
