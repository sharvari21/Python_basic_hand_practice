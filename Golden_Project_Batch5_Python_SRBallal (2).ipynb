{
 "cells": [
  {
   "cell_type": "code",
   "execution_count": 47,
   "metadata": {},
   "outputs": [
    {
     "name": "stdout",
     "output_type": "stream",
     "text": [
      "Enter Number Of Test Cases\n",
      "2\n",
      "Enter Seat Number To Test\n",
      "4\n",
      "5\n",
      "9 AS\n",
      "8 MS\n"
     ]
    }
   ],
   "source": [
    "'''\n",
    "Akash and Vishal are quite fond of travelling. They mostly travel by railways. They were travelling in a train one day and they got interested in the seating arrangement of their compartment. \n",
    "The compartment looked something like - https://letsupgrade.in/projectIMages/train.jpg\n",
    "So they got interested to know the seat number facing them and the seat type facing them. The seats are denoted as follows :\n",
    "Window Seat : WS\n",
    "Middle Seat : MS\n",
    "Aisle Seat : AS\n",
    "You will be given a seat number, find out the seat number facing you and the seat type, i.e. WS, MS or AS.\n",
    "INPUT\n",
    "First line of input will consist of a single integer T denoting number of test-cases. Each test-case consists of a single integer N denoting the seat-number.\n",
    "\n",
    "OUTPUT\n",
    "For each test case, print the facing seat-number and the seat-type, separated by a single space in a new line.\n",
    "CONSTRAINTS\n",
    "1<=T<=105\n",
    "1<=N<=108\n",
    "\n",
    "SAMPLE INPUT \n",
    "2\n",
    "18\n",
    "40\n",
    "\n",
    "SAMPLE OUTPUT \n",
    "19 WS\n",
    "45 AS\n",
    "'''\n",
    "\n",
    "print(\"Enter Number Of Test Cases\")\n",
    "NumberOfTestCases = int(input())\n",
    "print(\"Enter Seat Number To Test\")\n",
    "SeatNumber = []\n",
    "rem = 0\n",
    "while NumberOfTestCases:\n",
    "    SeatNumber.append(int(input()))\n",
    "    NumberOfTestCases -=1\n",
    "\n",
    "for i in range(len(SeatNumber)):\n",
    "    rem = SeatNumber[i]%12\n",
    "    if rem == 1: #Window Seat\n",
    "        print(SeatNumber[i]+11,'WS')\n",
    "    elif rem == 2: #Middle Seat\n",
    "        print(SeatNumber[i]+9,'MS')\n",
    "    elif rem == 3: #Aisle Seat\n",
    "        print(SeatNumber[i]+7,'AS')\n",
    "    elif rem == 4: #Aisle Seat\n",
    "        print(SeatNumber[i]+5,'AS')\n",
    "    elif rem == 5: #Middle Seat\n",
    "        print(SeatNumber[i]+3,'MS')\n",
    "    elif rem == 6: #Window Seat\n",
    "        print(SeatNumber[i]+1,'WS')\n",
    "    elif rem == 7: #Window Seat\n",
    "        print(SeatNumber[i]-1,'WS')\n",
    "    elif rem == 8: # Middle Seat\n",
    "        print(SeatNumber[i]-3,'MS')\n",
    "    elif rem == 9: #Aisle Seat\n",
    "        print(SeatNumber[i]-5,'AS')\n",
    "    elif rem == 10: #Aisle Seat\n",
    "        print(SeatNumber[i]-7,'AS')\n",
    "    elif rem == 11: #Middle Seat\n",
    "        print(SeatNumber[i]-9,'MS')\n",
    "    elif rem == 0: #Window Seat\n",
    "        print(SeatNumber[i]-11,'WS')\n",
    "   \n",
    "    rem = 0"
   ]
  },
  {
   "cell_type": "code",
   "execution_count": 45,
   "metadata": {},
   "outputs": [],
   "source": [
    "def testseat(args):\n",
    "\n",
    "    #for j in range(testno):\n",
    "        #print(\"no. are\",str(i)) \n",
    "        rem = 0\n",
    "       # while testno:\n",
    "            #SeatNumber.append(int(input()))\n",
    "           # testno -=1\n",
    "        for i in range(len(args)):\n",
    "            rem = args[i]%12\n",
    "            if rem == 1: #Window Seat\n",
    "                print(args[i]+11,'WS')\n",
    "            elif rem == 2: #Middle Seat\n",
    "                print(args[i]+9,'MS')\n",
    "            elif rem == 3: #Aisle Seat\n",
    "                print(args[i]+7,'AS')\n",
    "            elif rem == 4: #Aisle Seat\n",
    "                print(args[i]+5,'AS')\n",
    "            elif rem == 5: #Middle Seat\n",
    "                print(args[i]+3,'MS')\n",
    "            elif rem == 6: #Window Seat\n",
    "                print(args[i]+1,'WS')\n",
    "            elif rem == 7: #Window Seat\n",
    "                print(args[i]-1,'WS')\n",
    "            elif rem == 8: # Middle Seat\n",
    "                print(args[i]-3,'MS')\n",
    "            elif rem == 9: #Aisle Seat\n",
    "                print(args[i]-5,'AS')\n",
    "            elif rem == 10: #Aisle Seat\n",
    "                print(args[i]-7,'AS')\n",
    "            elif rem == 1: #Middle Seat\n",
    "                print(args[i]-9,'MS')\n",
    "            elif rem == 0: #Window Seat\n",
    "                print(args[i]-11,'WS')\n",
    "\n",
    "            rem = 0\n"
   ]
  },
  {
   "cell_type": "code",
   "execution_count": 46,
   "metadata": {},
   "outputs": [
    {
     "name": "stdout",
     "output_type": "stream",
     "text": [
      "Enter Number Of Test Cases\n",
      "2\n",
      "Enter Seat Number To Test\n",
      "5\n",
      "7\n",
      "8 MS\n",
      "6 WS\n"
     ]
    }
   ],
   "source": [
    "print(\"Enter Number Of Test Cases\")\n",
    "NumberOfTestCases = int(input())\n",
    "print(\"Enter Seat Number To Test\")\n",
    "SeatNumber = list()\n",
    "while NumberOfTestCases:\n",
    "    SeatNumber.append(int(input()))\n",
    "    NumberOfTestCases -=1\n",
    "#l =[5,7]\n",
    "testseat(SeatNumber)"
   ]
  },
  {
   "cell_type": "code",
   "execution_count": null,
   "metadata": {},
   "outputs": [],
   "source": []
  }
 ],
 "metadata": {
  "kernelspec": {
   "display_name": "Python 3",
   "language": "python",
   "name": "python3"
  },
  "language_info": {
   "codemirror_mode": {
    "name": "ipython",
    "version": 3
   },
   "file_extension": ".py",
   "mimetype": "text/x-python",
   "name": "python",
   "nbconvert_exporter": "python",
   "pygments_lexer": "ipython3",
   "version": "3.7.6"
  }
 },
 "nbformat": 4,
 "nbformat_minor": 4
}
