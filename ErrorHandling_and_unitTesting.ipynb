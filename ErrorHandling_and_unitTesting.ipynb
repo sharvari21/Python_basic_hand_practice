{
 "cells": [
  {
   "cell_type": "code",
   "execution_count": 2,
   "metadata": {},
   "outputs": [
    {
     "name": "stdout",
     "output_type": "stream",
     "text": [
      "Something Went Wrong! \n",
      "Error was -  not writable\n",
      "Hello there!\n"
     ]
    }
   ],
   "source": [
    "# Day 7 Assignment number 1 \"WAP to handle error exception with the help of file\"\n",
    "\n",
    "file = open(\"fortest.txt\",\"r\")\n",
    "\n",
    "try:\n",
    "    file.write(\"Day 7 Assignment number 1 WAP to handle error exception with the help of file\")\n",
    "except Exception as e:\n",
    "    print(\"Something Went Wrong! \")\n",
    "    print(\"Error was - \", e)\n",
    "finally:\n",
    "    file.close()\n",
    "    \n",
    "print(\"Hello there!\")"
   ]
  },
  {
   "cell_type": "code",
   "execution_count": 3,
   "metadata": {},
   "outputs": [
    {
     "name": "stdout",
     "output_type": "stream",
     "text": [
      "Requirement already satisfied: pylint in c:\\users\\shoun\\anaconda3\\lib\\site-packages (2.4.4)\n",
      "Requirement already satisfied: isort<5,>=4.2.5 in c:\\users\\shoun\\anaconda3\\lib\\site-packages (from pylint) (4.3.21)\n",
      "Requirement already satisfied: astroid<2.4,>=2.3.0 in c:\\users\\shoun\\anaconda3\\lib\\site-packages (from pylint) (2.3.3)\n",
      "Requirement already satisfied: colorama; sys_platform == \"win32\" in c:\\users\\shoun\\anaconda3\\lib\\site-packages (from pylint) (0.4.3)\n",
      "Requirement already satisfied: mccabe<0.7,>=0.6 in c:\\users\\shoun\\anaconda3\\lib\\site-packages (from pylint) (0.6.1)\n",
      "Requirement already satisfied: lazy-object-proxy==1.4.* in c:\\users\\shoun\\anaconda3\\lib\\site-packages (from astroid<2.4,>=2.3.0->pylint) (1.4.3)\n",
      "Requirement already satisfied: six~=1.12 in c:\\users\\shoun\\anaconda3\\lib\\site-packages (from astroid<2.4,>=2.3.0->pylint) (1.14.0)\n",
      "Requirement already satisfied: wrapt==1.11.* in c:\\users\\shoun\\anaconda3\\lib\\site-packages (from astroid<2.4,>=2.3.0->pylint) (1.11.2)\n",
      "Requirement already satisfied: typed-ast<1.5,>=1.4.0; implementation_name == \"cpython\" and python_version < \"3.8\" in c:\\users\\shoun\\anaconda3\\lib\\site-packages (from astroid<2.4,>=2.3.0->pylint) (1.4.1)\n"
     ]
    }
   ],
   "source": [
    "# Day 7 Assignment number 2 \"WAP to find given no. is prime or not and do unit testing using PyLint and Unittest lib\"\n",
    "\n",
    "!pip install pylint"
   ]
  },
  {
   "cell_type": "code",
   "execution_count": 4,
   "metadata": {},
   "outputs": [
    {
     "name": "stdout",
     "output_type": "stream",
     "text": [
      "Writing check_prime_no.py\n"
     ]
    }
   ],
   "source": [
    "%%writefile check_prime_no.py\n",
    "'''\n",
    "a small python file which is used to check number is prime or not\n",
    "'''\n",
    "def isPrime(num):\n",
    " if num > 1:\n",
    "  for i in range(2,num):\n",
    "    if(num % i) == 0:\n",
    "      return False\n",
    "    else:\n",
    "      return True\n",
    " else :\n",
    "   return True"
   ]
  },
  {
   "cell_type": "code",
   "execution_count": 7,
   "metadata": {},
   "outputs": [
    {
     "name": "stdout",
     "output_type": "stream",
     "text": [
      "Overwriting prime_no_testing.py\n"
     ]
    }
   ],
   "source": [
    "%%writefile prime_no_testing.py\n",
    "\n",
    "import unittest\n",
    "import check_prime_no\n",
    "\n",
    "class PrimeTesting(unittest.TestCase):\n",
    "    def testPrime(self):  # TestCase 1\n",
    "        temp_num = 4\n",
    "        result = check_prime_no.isPrime(temp_num)\n",
    "        #Important line\n",
    "        self.assertAlmostEqual(result,False)\n",
    "        # THe above line checks your result from function is equal to \n",
    "        # the manully given result, \n",
    "        # if yes then it says test passed \n",
    "        # if no then it says test failed\n",
    "        \n",
    "    def testPrimeTwo(self): # TestCase 2\n",
    "        temp_num = 3\n",
    "        result = check_prime_no.isPrime(temp_num)\n",
    "        self.assertAlmostEqual(result,True)\n",
    "        \n",
    "if __name__ == \"__main__\":\n",
    "    unittest.main()"
   ]
  },
  {
   "cell_type": "code",
   "execution_count": 8,
   "metadata": {},
   "outputs": [
    {
     "name": "stderr",
     "output_type": "stream",
     "text": [
      "..\n",
      "----------------------------------------------------------------------\n",
      "Ran 2 tests in 0.000s\n",
      "\n",
      "OK\n"
     ]
    }
   ],
   "source": [
    "! python prime_no_testing.py"
   ]
  },
  {
   "cell_type": "code",
   "execution_count": 19,
   "metadata": {},
   "outputs": [
    {
     "name": "stdout",
     "output_type": "stream",
     "text": [
      "Enter a number to check whether is prime or not!\n",
      "2\n",
      "Number is not prime number!\n"
     ]
    }
   ],
   "source": [
    "import check_prime_no\n",
    "\n",
    "print(\"Enter a number to check whether is prime or not!\")\n",
    "n = int(input())\n",
    "res = check_prime_no.isPrime(n)\n",
    "#print(res)\n",
    "if res == True:\n",
    "    print(\"Number is prime number!\")\n",
    "else:\n",
    "    print(\"Number is not prime number!\")"
   ]
  },
  {
   "cell_type": "code",
   "execution_count": null,
   "metadata": {},
   "outputs": [],
   "source": []
  }
 ],
 "metadata": {
  "kernelspec": {
   "display_name": "Python 3",
   "language": "python",
   "name": "python3"
  },
  "language_info": {
   "codemirror_mode": {
    "name": "ipython",
    "version": 3
   },
   "file_extension": ".py",
   "mimetype": "text/x-python",
   "name": "python",
   "nbconvert_exporter": "python",
   "pygments_lexer": "ipython3",
   "version": "3.7.6"
  }
 },
 "nbformat": 4,
 "nbformat_minor": 4
}
